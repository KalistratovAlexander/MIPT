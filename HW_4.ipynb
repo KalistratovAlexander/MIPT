{
 "cells": [
  {
   "cell_type": "markdown",
   "metadata": {
    "id": "yz23vWHD0wcj"
   },
   "source": [
    "# Домашнее задание 4"
   ]
  },
  {
   "cell_type": "code",
   "execution_count": 1,
   "metadata": {},
   "outputs": [
    {
     "name": "stdout",
     "output_type": "stream",
     "text": [
      "No pygame installed, ignoring import\n"
     ]
    }
   ],
   "source": [
    "import numpy as np\n",
    "import pandas as pd\n",
    "import random\n",
    "\n",
    "import os\n",
    "import importlib\n",
    "\n",
    "from kaggle_environments import make, evaluate"
   ]
  },
  {
   "cell_type": "markdown",
   "metadata": {},
   "source": [
    "## Подготовка агентов"
   ]
  },
  {
   "cell_type": "code",
   "execution_count": 2,
   "metadata": {},
   "outputs": [
    {
     "name": "stdout",
     "output_type": "stream",
     "text": [
      "Overwriting rock_agent.py\n"
     ]
    }
   ],
   "source": [
    "%%writefile rock_agent.py\n",
    "\n",
    "def rock_agent(observation, configuration):\n",
    "    # Агент, который всегда выбирает камень\n",
    "    return 0"
   ]
  },
  {
   "cell_type": "code",
   "execution_count": 3,
   "metadata": {},
   "outputs": [
    {
     "name": "stdout",
     "output_type": "stream",
     "text": [
      "Overwriting paper_agent.py\n"
     ]
    }
   ],
   "source": [
    "%%writefile paper_agent.py\n",
    "\n",
    "def paper_agent(observation, configuration):\n",
    "    # Агент, который всегда выбирает бумагу\n",
    "    return 1"
   ]
  },
  {
   "cell_type": "code",
   "execution_count": 4,
   "metadata": {},
   "outputs": [
    {
     "name": "stdout",
     "output_type": "stream",
     "text": [
      "Overwriting scissors_agent.py\n"
     ]
    }
   ],
   "source": [
    "%%writefile scissors_agent.py\n",
    "\n",
    "def scissors_agent(observation, configuration):\n",
    "    # Агент, который всегда выбирает ножницы\n",
    "    return 2"
   ]
  },
  {
   "cell_type": "code",
   "execution_count": 5,
   "metadata": {},
   "outputs": [
    {
     "name": "stdout",
     "output_type": "stream",
     "text": [
      "Overwriting counter_attacker_agent.py\n"
     ]
    }
   ],
   "source": [
    "%%writefile counter_attacker_agent.py\n",
    "\n",
    "import random\n",
    "\n",
    "def counter_attacker_agent(observation, configuration):\n",
    "    # Агент, который контр-атакует предыдущий выбор соперника \n",
    "    if observation.step == 0:\n",
    "        # При первом раунде выбирает случайный жест\n",
    "        return random.randrange(0, configuration.signs)\n",
    "    else:\n",
    "        # При последующих контр-атакует предыдущий выбор соперника \n",
    "        return (observation.lastOpponentAction + 1) % 3"
   ]
  },
  {
   "cell_type": "code",
   "execution_count": 6,
   "metadata": {},
   "outputs": [
    {
     "name": "stdout",
     "output_type": "stream",
     "text": [
      "Overwriting opposite_counter_attacker_agent.py\n"
     ]
    }
   ],
   "source": [
    "%%writefile opposite_counter_attacker_agent.py\n",
    "\n",
    "import random\n",
    "\n",
    "def opposite_counter_attacker_agent(observation, configuration):\n",
    "    # Агент, который выбирает жест, проигрывающий предыдущему выбору соперника\n",
    "    if observation.step == 0:\n",
    "        # При первом раунде выбирает случайный жест\n",
    "        return random.randrange(0, configuration.signs)\n",
    "    else:\n",
    "        # При последующих выбирает жест, проигрывающий предыдущему выбору соперника\n",
    "        return (observation.lastOpponentAction - 1) % 3"
   ]
  },
  {
   "cell_type": "code",
   "execution_count": 7,
   "metadata": {},
   "outputs": [
    {
     "name": "stdout",
     "output_type": "stream",
     "text": [
      "Overwriting mirror_agent.py\n"
     ]
    }
   ],
   "source": [
    "%%writefile mirror_agent.py\n",
    "\n",
    "import random\n",
    "\n",
    "def mirror_agent(observation, configuration):\n",
    "    # Агент, который копирует предыдущий выбор соперника\n",
    "    if observation.step == 0:\n",
    "        # При первом раунде выбирает случайный жест\n",
    "        return random.randrange(0, configuration.signs)\n",
    "    else:\n",
    "        # При последующих копирует предыдущий выбор соперника\n",
    "        return observation.lastOpponentAction"
   ]
  },
  {
   "cell_type": "code",
   "execution_count": 8,
   "metadata": {},
   "outputs": [
    {
     "name": "stdout",
     "output_type": "stream",
     "text": [
      "Overwriting opposite_mirror_agent.py\n"
     ]
    }
   ],
   "source": [
    "%%writefile opposite_mirror_agent.py\n",
    "\n",
    "import random\n",
    "\n",
    "def opposite_mirror_agent(observation, configuration):\n",
    "    # Агент, который выбирает жест, который отличается от предыдущего выбора соперника\n",
    "    if observation.step == 0:\n",
    "        # При первом раунде выбирает случайный жест\n",
    "        return random.randrange(0, configuration.signs)\n",
    "    else:\n",
    "        # При последующих выбирает жест, который отличается от предыдущего выбора соперника\n",
    "        options = [move for move in range(configuration.signs) if move != observation.lastOpponentAction]\n",
    "        return random.choice(options)"
   ]
  },
  {
   "cell_type": "code",
   "execution_count": 9,
   "metadata": {},
   "outputs": [
    {
     "name": "stdout",
     "output_type": "stream",
     "text": [
      "Overwriting cycle_agent.py\n"
     ]
    }
   ],
   "source": [
    "%%writefile cycle_agent.py\n",
    "\n",
    "def cycle_agent(observation, configuration):\n",
    "    # Агент, который выбирает все жесты по порядку\n",
    "    return observation.step % 3"
   ]
  },
  {
   "cell_type": "code",
   "execution_count": 10,
   "metadata": {},
   "outputs": [
    {
     "name": "stdout",
     "output_type": "stream",
     "text": [
      "Overwriting opposite_win_agent.py\n"
     ]
    }
   ],
   "source": [
    "%%writefile opposite_win_agent.py\n",
    "\n",
    "import random\n",
    "\n",
    "def opposite_win_agent(observation, configuration):\n",
    "    # Агент, который меняет жест после победы\n",
    "    if not hasattr(opposite_win_agent, \"last_reward\"):\n",
    "        # Инициализация атрибутов функции для хранения последнего вознаграждения и выигрыша\n",
    "        opposite_win_agent.last_reward = 0\n",
    "        opposite_win_agent.last_action = random.randrange(0, configuration.signs)\n",
    "    \n",
    "    # Определение успешности розыгрыша, как разницы между суммой очков текущего и предыдущего раундов\n",
    "    last_result = observation.reward - opposite_win_agent.last_reward\n",
    "    opposite_win_agent.last_reward = observation.reward \n",
    "\n",
    "    if last_result > 0:\n",
    "        # Выбирает любой другой жест в случае выйгрыша\n",
    "        next_move = random.choice([move for move\n",
    "                                   in range(configuration.signs)\n",
    "                                   if move != opposite_win_agent.last_action])\n",
    "    else:\n",
    "        # Выбирает случайный жест при проигрыше или ничьей в предыдущем раунде\n",
    "        next_move = random.randrange(0, configuration.signs)\n",
    "\n",
    "    # Обновление предыдущего раунда\n",
    "    opposite_win_agent.last_action = next_move\n",
    "    return next_move"
   ]
  },
  {
   "cell_type": "code",
   "execution_count": 11,
   "metadata": {},
   "outputs": [
    {
     "name": "stdout",
     "output_type": "stream",
     "text": [
      "Overwriting counter_attacker_win_agent.py\n"
     ]
    }
   ],
   "source": [
    "%%writefile counter_attacker_win_agent.py\n",
    "\n",
    "import random\n",
    "\n",
    "def counter_attacker_win_agent(observation, configuration):\n",
    "    # Агент, который контр-атакует после победы\n",
    "    if not hasattr(counter_attacker_win_agent, \"last_reward\"):\n",
    "        # Инициализация атрибутов функции для хранения последнего вознаграждения и выигрыша\n",
    "        counter_attacker_win_agent.last_reward = 0\n",
    "        counter_attacker_win_agent.last_action = random.randrange(0, configuration.signs)\n",
    "    \n",
    "    # Определение успешности розыгрыша, как разницы между суммой очков текущего и предыдущего раундов\n",
    "    last_result = observation.reward - counter_attacker_win_agent.last_reward\n",
    "    counter_attacker_win_agent.last_reward = observation.reward \n",
    "\n",
    "    if last_result > 0:\n",
    "        # Контр-атакует в случае выйгрыша\n",
    "        next_move = (counter_attacker_win_agent.last_action + 1) % 3\n",
    "    else:\n",
    "        # Выбирает случайный жест при проигрыше или ничьей в предыдущем раунде\n",
    "        next_move = random.randrange(0, configuration.signs)\n",
    "\n",
    "    # Обновление предыдущего раунда\n",
    "    counter_attacker_win_agent.last_action = next_move\n",
    "    return next_move"
   ]
  },
  {
   "cell_type": "code",
   "execution_count": 12,
   "metadata": {},
   "outputs": [
    {
     "name": "stdout",
     "output_type": "stream",
     "text": [
      "Overwriting opposite_lose_agent.py\n"
     ]
    }
   ],
   "source": [
    "%%writefile opposite_lose_agent.py\n",
    "\n",
    "import random\n",
    "\n",
    "def opposite_lose_agent(observation, configuration):\n",
    "    # Агент, который меняет жест после поражения\n",
    "    if not hasattr(opposite_lose_agent, \"last_reward\"):\n",
    "        # Инициализация атрибутов функции для хранения последнего вознаграждения и выигрыша\n",
    "        opposite_lose_agent.last_reward = 0\n",
    "        opposite_lose_agent.last_action = random.randrange(0, configuration.signs)\n",
    "    \n",
    "    # Определение успешности розыгрыша, как разницы между суммой очков текущего и предыдущего раундов\n",
    "    last_result = observation.reward - opposite_lose_agent.last_reward\n",
    "    opposite_lose_agent.last_reward = observation.reward \n",
    "\n",
    "    if last_result < 0:\n",
    "        # Выбирает любой другой жест в случае проигрыша\n",
    "        next_move = random.choice([move for move\n",
    "                                   in range(configuration.signs)\n",
    "                                   if move != opposite_lose_agent.last_action])\n",
    "    else:\n",
    "        # Выбирает случайный жест при проигрыше или ничьей в предыдущем раунде\n",
    "        next_move = random.randrange(0, configuration.signs)\n",
    "\n",
    "    # Обновление предыдущего раунда\n",
    "    opposite_lose_agent.last_action = next_move\n",
    "    return next_move"
   ]
  },
  {
   "cell_type": "code",
   "execution_count": 13,
   "metadata": {},
   "outputs": [
    {
     "name": "stdout",
     "output_type": "stream",
     "text": [
      "Overwriting counter_attacker_lose_agent.py\n"
     ]
    }
   ],
   "source": [
    "%%writefile counter_attacker_lose_agent.py\n",
    "\n",
    "import random\n",
    "\n",
    "def counter_attacker_lose_agent(observation, configuration):\n",
    "    # Агент, который меняет жест после поражения\n",
    "    if not hasattr(counter_attacker_lose_agent, \"last_reward\"):\n",
    "        # Инициализация атрибутов функции для хранения последнего вознаграждения и выигрыша\n",
    "        counter_attacker_lose_agent.last_reward = 0\n",
    "        counter_attacker_lose_agent.last_action = random.randrange(0, configuration.signs)\n",
    "    \n",
    "    # Определение успешности розыгрыша, как разницы между суммой очков текущего и предыдущего раундов\n",
    "    last_result = observation.reward - counter_attacker_lose_agent.last_reward\n",
    "    counter_attacker_lose_agent.last_reward = observation.reward \n",
    "\n",
    "    if last_result < 0:\n",
    "        # Выбирает любой другой жест в случае проигрыша\n",
    "        next_move = (counter_attacker_lose_agent.last_action + 1) % 3\n",
    "    else:\n",
    "        # Выбирает случайный жест при проигрыше или ничьей в предыдущем раунде\n",
    "        next_move = random.randrange(0, configuration.signs)\n",
    "\n",
    "    # Обновление предыдущего раунда\n",
    "    counter_attacker_lose_agent.last_action = next_move\n",
    "    return next_move"
   ]
  },
  {
   "cell_type": "code",
   "execution_count": 14,
   "metadata": {},
   "outputs": [
    {
     "name": "stdout",
     "output_type": "stream",
     "text": [
      "Overwriting random_agent.py\n"
     ]
    }
   ],
   "source": [
    "%%writefile random_agent.py\n",
    "\n",
    "import random\n",
    "\n",
    "def random_agent(observation, configuration):\n",
    "    # Всегда выбирает случайный жест\n",
    "    return random.randrange(0, configuration.signs)"
   ]
  },
  {
   "cell_type": "code",
   "execution_count": 15,
   "metadata": {},
   "outputs": [
    {
     "name": "stdout",
     "output_type": "stream",
     "text": [
      "Overwriting frequency_agent.py\n"
     ]
    }
   ],
   "source": [
    "%%writefile frequency_agent.py\n",
    "\n",
    "import random\n",
    "\n",
    "def frequency_agent(observation, configuration):\n",
    "    # Агент,который выбирает наиболее используемый жест соперника\n",
    "    if not hasattr(frequency_agent, \"signs\") or observation.step == 0:\n",
    "        # Инициализация атрибута для хранения кол-ва использований жестов\n",
    "        frequency_agent.signs = {0: 0, 1: 0, 2: 0}\n",
    "        \n",
    "    if observation.step == 0:\n",
    "        # При первом раунде выбирает случайный жест\n",
    "        return random.randrange(0, configuration.signs)\n",
    "    else:\n",
    "        # В последующих раундах выбирает наиболее используемый жест соперника\n",
    "        frequency_agent.signs[observation.lastOpponentAction] += 1\n",
    "        return (max(frequency_agent.signs, key=frequency_agent.signs.get) + 1) % 3\n",
    "    "
   ]
  },
  {
   "cell_type": "code",
   "execution_count": 16,
   "metadata": {},
   "outputs": [
    {
     "name": "stdout",
     "output_type": "stream",
     "text": [
      "Overwriting opposite_frequent_agent.py\n"
     ]
    }
   ],
   "source": [
    "%%writefile opposite_frequent_agent.py\n",
    "\n",
    "import random\n",
    "\n",
    "def opposite_frequent_agent(observation, configuration):\n",
    "    # Агент,который выбирает наименее используемый жест соперника\n",
    "    if not hasattr(opposite_frequent_agent, \"signs\") or observation.step == 0:\n",
    "        # Инициализация атрибута для хранения кол-ва использований жестов\n",
    "        opposite_frequent_agent.signs = {0: 0, 1: 0, 2: 0}\n",
    "        \n",
    "    if observation.step == 0:\n",
    "        # При первом раунде выбирает случайный жест\n",
    "        return random.randrange(0, configuration.signs)    \n",
    "    \n",
    "    else:\n",
    "        # В последующих раундах выбирает наиболее используемый жест соперника\n",
    "        opposite_frequent_agent.signs[observation.lastOpponentAction] += 1\n",
    "        return (min(opposite_frequent_agent.signs, key=opposite_frequent_agent.signs.get) + 1) % 3"
   ]
  },
  {
   "cell_type": "code",
   "execution_count": 17,
   "metadata": {},
   "outputs": [
    {
     "name": "stdout",
     "output_type": "stream",
     "text": [
      "Overwriting scissor_first.py\n"
     ]
    }
   ],
   "source": [
    "%%writefile scissor_first.py\n",
    "\n",
    "import random\n",
    "\n",
    "def scissor_first(observation, configuration):\n",
    "    # Агент, который всегда начинает с ножниц\n",
    "    if observation.step == 0:\n",
    "        # В первом раунде выбирает ножницы\n",
    "        return 2\n",
    "    else:\n",
    "        # В последующих раундах выбирает случайный жест\n",
    "        return random.randrange(0, configuration.signs)"
   ]
  },
  {
   "cell_type": "markdown",
   "metadata": {},
   "source": [
    "## Проведение соревнований"
   ]
  },
  {
   "cell_type": "code",
   "execution_count": 18,
   "metadata": {},
   "outputs": [
    {
     "name": "stdout",
     "output_type": "stream",
     "text": [
      "frequency_agent: 969.0\n",
      "counter_attacker_agent: 575.0\n",
      "counter_attacker_win_agent: 360.0\n",
      "opposite_mirror_agent: 98.0\n",
      "scissors_agent: 52.0\n",
      "rock_agent: 26.0\n",
      "random_agent: 0\n",
      "scissor_first: 0\n",
      "opposite_win_agent: -23.0\n",
      "opposite_lose_agent: -39.0\n",
      "opposite_counter_attacker_agent: -202.0\n",
      "paper_agent: -221.0\n",
      "opposite_frequent_agent: -277.0\n",
      "cycle_agent: -289.0\n",
      "counter_attacker_lose_agent: -514.0\n",
      "mirror_agent: -515.0\n"
     ]
    }
   ],
   "source": [
    "# Формирования списка с названиями агентов\n",
    "agents_list = [file for file in os.listdir('.') if file.endswith('.py')]\n",
    "agents_list = [agent[:-3] for agent in agents_list]\n",
    "\n",
    "# Словарь для хранения функций агентов\n",
    "agents = {}\n",
    "\n",
    "# Импорт функций агентов\n",
    "for agent in agents_list:\n",
    "    module = importlib.import_module(agent)\n",
    "    agents[agent] = getattr(module, agent)\n",
    "\n",
    "# Словарь для хранения результатов\n",
    "scores = {agent_name: 0 for agent_name in agents.keys()}\n",
    "\n",
    "# Турнир\n",
    "for i, agent_name_1 in enumerate(agents.keys()):\n",
    "    for j, agent_name_2 in enumerate(agents.keys()):\n",
    "        if i != j:\n",
    "            env = make(\"rps\", configuration={\"episodeSteps\": 100})\n",
    "            env.reset()\n",
    "            result = env.run([agents[agent_name_1], agents[agent_name_2]])\n",
    "            \n",
    "            \n",
    "            # Подсчет очков\n",
    "            scores[agent_name_1] += result[-1][0][\"reward\"]\n",
    "            scores[agent_name_2] += result[-1][1][\"reward\"]\n",
    "        else:\n",
    "            continue\n",
    "\n",
    "# Сортировка и демонстрация результатов\n",
    "sorted_scores = sorted(scores.items(), key=lambda x: x[1], reverse=True)\n",
    "for agent, score in sorted_scores:\n",
    "    print(f\"{agent}: {score}\")"
   ]
  }
 ],
 "metadata": {
  "colab": {
   "provenance": []
  },
  "kernelspec": {
   "display_name": "Python 3 (ipykernel)",
   "language": "python",
   "name": "python3"
  },
  "language_info": {
   "codemirror_mode": {
    "name": "ipython",
    "version": 3
   },
   "file_extension": ".py",
   "mimetype": "text/x-python",
   "name": "python",
   "nbconvert_exporter": "python",
   "pygments_lexer": "ipython3",
   "version": "3.9.13"
  }
 },
 "nbformat": 4,
 "nbformat_minor": 1
}
